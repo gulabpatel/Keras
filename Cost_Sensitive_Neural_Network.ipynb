{
  "nbformat": 4,
  "nbformat_minor": 0,
  "metadata": {
    "kernelspec": {
      "display_name": "Python 3",
      "language": "python",
      "name": "python3"
    },
    "language_info": {
      "codemirror_mode": {
        "name": "ipython",
        "version": 3
      },
      "file_extension": ".py",
      "mimetype": "text/x-python",
      "name": "python",
      "nbconvert_exporter": "python",
      "pygments_lexer": "ipython3",
      "version": "3.7.7"
    },
    "colab": {
      "name": "Cost_Sensitive_Neural_Network.ipynb",
      "provenance": []
    }
  },
  "cells": [
    {
      "cell_type": "markdown",
      "metadata": {
        "id": "45g8sB3m7rTT"
      },
      "source": [
        "## Handling  Imbalanced Classification Using Neural Network"
      ]
    },
    {
      "cell_type": "code",
      "metadata": {
        "id": "cvrQlaIg7rTT"
      },
      "source": [
        "##Data ailabe on https://www.kaggle.com/mlg-ulb/creditcardfraud\n",
        "import pandas as pd"
      ],
      "execution_count": 1,
      "outputs": []
    },
    {
      "cell_type": "code",
      "metadata": {
        "id": "qylCij_P7rTU"
      },
      "source": [
        "df=pd.read_csv('/content/creditcard.csv')"
      ],
      "execution_count": 2,
      "outputs": []
    },
    {
      "cell_type": "code",
      "metadata": {
        "id": "E7mVFx4N7rTU",
        "colab": {
          "base_uri": "https://localhost:8080/",
          "height": 379
        },
        "outputId": "b4cce069-0ec4-4884-dbe0-294096ab63d9"
      },
      "source": [
        "df.sample(10)"
      ],
      "execution_count": 4,
      "outputs": [
        {
          "output_type": "execute_result",
          "data": {
            "text/html": [
              "<div>\n",
              "<style scoped>\n",
              "    .dataframe tbody tr th:only-of-type {\n",
              "        vertical-align: middle;\n",
              "    }\n",
              "\n",
              "    .dataframe tbody tr th {\n",
              "        vertical-align: top;\n",
              "    }\n",
              "\n",
              "    .dataframe thead th {\n",
              "        text-align: right;\n",
              "    }\n",
              "</style>\n",
              "<table border=\"1\" class=\"dataframe\">\n",
              "  <thead>\n",
              "    <tr style=\"text-align: right;\">\n",
              "      <th></th>\n",
              "      <th>Time</th>\n",
              "      <th>V1</th>\n",
              "      <th>V2</th>\n",
              "      <th>V3</th>\n",
              "      <th>V4</th>\n",
              "      <th>V5</th>\n",
              "      <th>V6</th>\n",
              "      <th>V7</th>\n",
              "      <th>V8</th>\n",
              "      <th>V9</th>\n",
              "      <th>V10</th>\n",
              "      <th>V11</th>\n",
              "      <th>V12</th>\n",
              "      <th>V13</th>\n",
              "      <th>V14</th>\n",
              "      <th>V15</th>\n",
              "      <th>V16</th>\n",
              "      <th>V17</th>\n",
              "      <th>V18</th>\n",
              "      <th>V19</th>\n",
              "      <th>V20</th>\n",
              "      <th>V21</th>\n",
              "      <th>V22</th>\n",
              "      <th>V23</th>\n",
              "      <th>V24</th>\n",
              "      <th>V25</th>\n",
              "      <th>V26</th>\n",
              "      <th>V27</th>\n",
              "      <th>V28</th>\n",
              "      <th>Amount</th>\n",
              "      <th>Class</th>\n",
              "    </tr>\n",
              "  </thead>\n",
              "  <tbody>\n",
              "    <tr>\n",
              "      <th>41000</th>\n",
              "      <td>40495</td>\n",
              "      <td>-0.624852</td>\n",
              "      <td>1.012315</td>\n",
              "      <td>1.191056</td>\n",
              "      <td>-0.429560</td>\n",
              "      <td>1.190739</td>\n",
              "      <td>0.683069</td>\n",
              "      <td>0.785694</td>\n",
              "      <td>0.238579</td>\n",
              "      <td>-0.816029</td>\n",
              "      <td>-0.576027</td>\n",
              "      <td>0.120893</td>\n",
              "      <td>0.323846</td>\n",
              "      <td>0.231304</td>\n",
              "      <td>0.280666</td>\n",
              "      <td>-0.148773</td>\n",
              "      <td>0.621168</td>\n",
              "      <td>-1.216788</td>\n",
              "      <td>0.452088</td>\n",
              "      <td>-0.707298</td>\n",
              "      <td>-0.144796</td>\n",
              "      <td>0.140348</td>\n",
              "      <td>0.386729</td>\n",
              "      <td>-0.506975</td>\n",
              "      <td>-1.269542</td>\n",
              "      <td>0.473990</td>\n",
              "      <td>-0.347492</td>\n",
              "      <td>0.085019</td>\n",
              "      <td>0.069879</td>\n",
              "      <td>0.23</td>\n",
              "      <td>0.0</td>\n",
              "    </tr>\n",
              "    <tr>\n",
              "      <th>26586</th>\n",
              "      <td>34154</td>\n",
              "      <td>1.327091</td>\n",
              "      <td>-1.839419</td>\n",
              "      <td>1.426399</td>\n",
              "      <td>-0.872490</td>\n",
              "      <td>-2.474584</td>\n",
              "      <td>0.365044</td>\n",
              "      <td>-1.990997</td>\n",
              "      <td>0.293473</td>\n",
              "      <td>-0.109322</td>\n",
              "      <td>1.083580</td>\n",
              "      <td>-1.952854</td>\n",
              "      <td>-1.262061</td>\n",
              "      <td>-1.037109</td>\n",
              "      <td>-1.271925</td>\n",
              "      <td>-1.334747</td>\n",
              "      <td>-0.766134</td>\n",
              "      <td>1.100550</td>\n",
              "      <td>0.283515</td>\n",
              "      <td>0.353246</td>\n",
              "      <td>-0.329910</td>\n",
              "      <td>-0.225421</td>\n",
              "      <td>-0.024547</td>\n",
              "      <td>-0.090382</td>\n",
              "      <td>0.029028</td>\n",
              "      <td>0.347044</td>\n",
              "      <td>-0.023832</td>\n",
              "      <td>0.090790</td>\n",
              "      <td>0.036125</td>\n",
              "      <td>66.00</td>\n",
              "      <td>0.0</td>\n",
              "    </tr>\n",
              "    <tr>\n",
              "      <th>69198</th>\n",
              "      <td>53312</td>\n",
              "      <td>1.466448</td>\n",
              "      <td>-0.351247</td>\n",
              "      <td>0.261888</td>\n",
              "      <td>-0.870951</td>\n",
              "      <td>-0.589031</td>\n",
              "      <td>-0.529060</td>\n",
              "      <td>-0.471172</td>\n",
              "      <td>-0.222081</td>\n",
              "      <td>-0.924550</td>\n",
              "      <td>0.565059</td>\n",
              "      <td>-0.692452</td>\n",
              "      <td>-0.039305</td>\n",
              "      <td>1.774188</td>\n",
              "      <td>-0.502867</td>\n",
              "      <td>0.685256</td>\n",
              "      <td>1.399639</td>\n",
              "      <td>-0.158799</td>\n",
              "      <td>-1.491101</td>\n",
              "      <td>0.923564</td>\n",
              "      <td>0.186573</td>\n",
              "      <td>-0.135729</td>\n",
              "      <td>-0.431480</td>\n",
              "      <td>0.013347</td>\n",
              "      <td>-0.441487</td>\n",
              "      <td>0.392930</td>\n",
              "      <td>-0.432383</td>\n",
              "      <td>0.019148</td>\n",
              "      <td>0.017157</td>\n",
              "      <td>8.50</td>\n",
              "      <td>0.0</td>\n",
              "    </tr>\n",
              "    <tr>\n",
              "      <th>13185</th>\n",
              "      <td>23170</td>\n",
              "      <td>-3.743846</td>\n",
              "      <td>-3.265379</td>\n",
              "      <td>0.995384</td>\n",
              "      <td>3.041958</td>\n",
              "      <td>0.965919</td>\n",
              "      <td>-0.587442</td>\n",
              "      <td>1.862605</td>\n",
              "      <td>-0.117721</td>\n",
              "      <td>-0.399114</td>\n",
              "      <td>-0.722735</td>\n",
              "      <td>-0.145658</td>\n",
              "      <td>-3.240442</td>\n",
              "      <td>1.480600</td>\n",
              "      <td>2.002062</td>\n",
              "      <td>-0.222200</td>\n",
              "      <td>0.774424</td>\n",
              "      <td>0.046116</td>\n",
              "      <td>0.229815</td>\n",
              "      <td>-0.669974</td>\n",
              "      <td>2.299492</td>\n",
              "      <td>0.055303</td>\n",
              "      <td>-1.963346</td>\n",
              "      <td>2.270957</td>\n",
              "      <td>-0.387028</td>\n",
              "      <td>0.510184</td>\n",
              "      <td>-0.487578</td>\n",
              "      <td>-0.377596</td>\n",
              "      <td>0.173759</td>\n",
              "      <td>788.77</td>\n",
              "      <td>0.0</td>\n",
              "    </tr>\n",
              "    <tr>\n",
              "      <th>17466</th>\n",
              "      <td>28739</td>\n",
              "      <td>1.339415</td>\n",
              "      <td>-0.529655</td>\n",
              "      <td>0.216735</td>\n",
              "      <td>-0.745884</td>\n",
              "      <td>-0.904537</td>\n",
              "      <td>-0.850040</td>\n",
              "      <td>-0.441846</td>\n",
              "      <td>-0.145437</td>\n",
              "      <td>-1.149201</td>\n",
              "      <td>0.817498</td>\n",
              "      <td>1.433613</td>\n",
              "      <td>0.032837</td>\n",
              "      <td>0.015686</td>\n",
              "      <td>0.145318</td>\n",
              "      <td>-0.035784</td>\n",
              "      <td>1.192389</td>\n",
              "      <td>0.045160</td>\n",
              "      <td>-0.880958</td>\n",
              "      <td>0.802073</td>\n",
              "      <td>0.121078</td>\n",
              "      <td>0.276878</td>\n",
              "      <td>0.646162</td>\n",
              "      <td>-0.146038</td>\n",
              "      <td>0.363738</td>\n",
              "      <td>0.590683</td>\n",
              "      <td>-0.135874</td>\n",
              "      <td>-0.014406</td>\n",
              "      <td>0.004102</td>\n",
              "      <td>33.90</td>\n",
              "      <td>0.0</td>\n",
              "    </tr>\n",
              "    <tr>\n",
              "      <th>14532</th>\n",
              "      <td>25731</td>\n",
              "      <td>-1.079107</td>\n",
              "      <td>0.864305</td>\n",
              "      <td>0.940906</td>\n",
              "      <td>0.895823</td>\n",
              "      <td>0.108736</td>\n",
              "      <td>-0.270375</td>\n",
              "      <td>0.208897</td>\n",
              "      <td>0.506249</td>\n",
              "      <td>-0.971974</td>\n",
              "      <td>-0.188214</td>\n",
              "      <td>1.390120</td>\n",
              "      <td>0.714899</td>\n",
              "      <td>-0.325765</td>\n",
              "      <td>0.909457</td>\n",
              "      <td>0.574053</td>\n",
              "      <td>-0.337903</td>\n",
              "      <td>0.079594</td>\n",
              "      <td>0.169874</td>\n",
              "      <td>0.320127</td>\n",
              "      <td>-0.241761</td>\n",
              "      <td>0.275497</td>\n",
              "      <td>0.773991</td>\n",
              "      <td>0.277047</td>\n",
              "      <td>0.226301</td>\n",
              "      <td>-0.299521</td>\n",
              "      <td>-0.329788</td>\n",
              "      <td>-0.018221</td>\n",
              "      <td>0.043799</td>\n",
              "      <td>16.16</td>\n",
              "      <td>0.0</td>\n",
              "    </tr>\n",
              "    <tr>\n",
              "      <th>58874</th>\n",
              "      <td>48591</td>\n",
              "      <td>-1.112615</td>\n",
              "      <td>1.092782</td>\n",
              "      <td>1.028388</td>\n",
              "      <td>-0.058914</td>\n",
              "      <td>0.272149</td>\n",
              "      <td>-0.087061</td>\n",
              "      <td>0.536191</td>\n",
              "      <td>-0.034223</td>\n",
              "      <td>0.598923</td>\n",
              "      <td>0.280986</td>\n",
              "      <td>-1.561070</td>\n",
              "      <td>0.153720</td>\n",
              "      <td>0.534164</td>\n",
              "      <td>-0.701265</td>\n",
              "      <td>-0.591994</td>\n",
              "      <td>-0.368117</td>\n",
              "      <td>-0.302268</td>\n",
              "      <td>-0.221219</td>\n",
              "      <td>0.623193</td>\n",
              "      <td>0.251913</td>\n",
              "      <td>-0.130387</td>\n",
              "      <td>0.185870</td>\n",
              "      <td>-0.288144</td>\n",
              "      <td>-0.378633</td>\n",
              "      <td>-0.000942</td>\n",
              "      <td>0.336683</td>\n",
              "      <td>-0.275741</td>\n",
              "      <td>-0.214190</td>\n",
              "      <td>1.89</td>\n",
              "      <td>0.0</td>\n",
              "    </tr>\n",
              "    <tr>\n",
              "      <th>51073</th>\n",
              "      <td>44781</td>\n",
              "      <td>1.212052</td>\n",
              "      <td>-0.959967</td>\n",
              "      <td>-0.206043</td>\n",
              "      <td>-0.655178</td>\n",
              "      <td>0.862045</td>\n",
              "      <td>4.012905</td>\n",
              "      <td>-1.644911</td>\n",
              "      <td>1.057908</td>\n",
              "      <td>-0.495288</td>\n",
              "      <td>0.778167</td>\n",
              "      <td>-0.471831</td>\n",
              "      <td>-0.245579</td>\n",
              "      <td>0.556517</td>\n",
              "      <td>-0.176761</td>\n",
              "      <td>1.615716</td>\n",
              "      <td>-0.410868</td>\n",
              "      <td>-1.012699</td>\n",
              "      <td>2.393828</td>\n",
              "      <td>-1.198009</td>\n",
              "      <td>-0.259059</td>\n",
              "      <td>-0.124898</td>\n",
              "      <td>-0.110437</td>\n",
              "      <td>-0.078027</td>\n",
              "      <td>0.973434</td>\n",
              "      <td>0.398280</td>\n",
              "      <td>-0.244182</td>\n",
              "      <td>0.094124</td>\n",
              "      <td>0.052315</td>\n",
              "      <td>69.30</td>\n",
              "      <td>0.0</td>\n",
              "    </tr>\n",
              "    <tr>\n",
              "      <th>15102</th>\n",
              "      <td>26455</td>\n",
              "      <td>-2.126952</td>\n",
              "      <td>0.067513</td>\n",
              "      <td>1.382638</td>\n",
              "      <td>-1.134619</td>\n",
              "      <td>-0.019310</td>\n",
              "      <td>-0.911391</td>\n",
              "      <td>0.922957</td>\n",
              "      <td>-0.257019</td>\n",
              "      <td>0.691863</td>\n",
              "      <td>0.374862</td>\n",
              "      <td>0.321592</td>\n",
              "      <td>0.362988</td>\n",
              "      <td>0.473940</td>\n",
              "      <td>-0.557652</td>\n",
              "      <td>0.860064</td>\n",
              "      <td>0.141827</td>\n",
              "      <td>-0.477369</td>\n",
              "      <td>-1.046089</td>\n",
              "      <td>-1.212722</td>\n",
              "      <td>0.247552</td>\n",
              "      <td>-0.282331</td>\n",
              "      <td>-0.023101</td>\n",
              "      <td>0.132024</td>\n",
              "      <td>0.458041</td>\n",
              "      <td>-0.237156</td>\n",
              "      <td>0.724837</td>\n",
              "      <td>0.427331</td>\n",
              "      <td>0.479316</td>\n",
              "      <td>134.83</td>\n",
              "      <td>0.0</td>\n",
              "    </tr>\n",
              "    <tr>\n",
              "      <th>66139</th>\n",
              "      <td>51908</td>\n",
              "      <td>-0.274783</td>\n",
              "      <td>0.433790</td>\n",
              "      <td>1.725127</td>\n",
              "      <td>0.295856</td>\n",
              "      <td>-0.574206</td>\n",
              "      <td>-0.241198</td>\n",
              "      <td>0.268445</td>\n",
              "      <td>0.150842</td>\n",
              "      <td>0.141179</td>\n",
              "      <td>-0.470679</td>\n",
              "      <td>-0.447172</td>\n",
              "      <td>-0.542146</td>\n",
              "      <td>-1.675554</td>\n",
              "      <td>0.193417</td>\n",
              "      <td>0.602683</td>\n",
              "      <td>-0.946172</td>\n",
              "      <td>0.923623</td>\n",
              "      <td>-0.923852</td>\n",
              "      <td>1.060362</td>\n",
              "      <td>-0.007709</td>\n",
              "      <td>-0.156450</td>\n",
              "      <td>-0.349035</td>\n",
              "      <td>0.167466</td>\n",
              "      <td>0.414253</td>\n",
              "      <td>-0.880120</td>\n",
              "      <td>0.890068</td>\n",
              "      <td>0.095052</td>\n",
              "      <td>0.143239</td>\n",
              "      <td>28.41</td>\n",
              "      <td>0.0</td>\n",
              "    </tr>\n",
              "  </tbody>\n",
              "</table>\n",
              "</div>"
            ],
            "text/plain": [
              "        Time        V1        V2        V3  ...       V27       V28  Amount  Class\n",
              "41000  40495 -0.624852  1.012315  1.191056  ...  0.085019  0.069879    0.23    0.0\n",
              "26586  34154  1.327091 -1.839419  1.426399  ...  0.090790  0.036125   66.00    0.0\n",
              "69198  53312  1.466448 -0.351247  0.261888  ...  0.019148  0.017157    8.50    0.0\n",
              "13185  23170 -3.743846 -3.265379  0.995384  ... -0.377596  0.173759  788.77    0.0\n",
              "17466  28739  1.339415 -0.529655  0.216735  ... -0.014406  0.004102   33.90    0.0\n",
              "14532  25731 -1.079107  0.864305  0.940906  ... -0.018221  0.043799   16.16    0.0\n",
              "58874  48591 -1.112615  1.092782  1.028388  ... -0.275741 -0.214190    1.89    0.0\n",
              "51073  44781  1.212052 -0.959967 -0.206043  ...  0.094124  0.052315   69.30    0.0\n",
              "15102  26455 -2.126952  0.067513  1.382638  ...  0.427331  0.479316  134.83    0.0\n",
              "66139  51908 -0.274783  0.433790  1.725127  ...  0.095052  0.143239   28.41    0.0\n",
              "\n",
              "[10 rows x 31 columns]"
            ]
          },
          "metadata": {
            "tags": []
          },
          "execution_count": 4
        }
      ]
    },
    {
      "cell_type": "code",
      "metadata": {
        "id": "BsixE-bT7rTW",
        "colab": {
          "base_uri": "https://localhost:8080/",
          "height": 224
        },
        "outputId": "fd2094bd-faa9-4aac-e4c6-36d2dc475ced"
      },
      "source": [
        "df.tail()"
      ],
      "execution_count": 5,
      "outputs": [
        {
          "output_type": "execute_result",
          "data": {
            "text/html": [
              "<div>\n",
              "<style scoped>\n",
              "    .dataframe tbody tr th:only-of-type {\n",
              "        vertical-align: middle;\n",
              "    }\n",
              "\n",
              "    .dataframe tbody tr th {\n",
              "        vertical-align: top;\n",
              "    }\n",
              "\n",
              "    .dataframe thead th {\n",
              "        text-align: right;\n",
              "    }\n",
              "</style>\n",
              "<table border=\"1\" class=\"dataframe\">\n",
              "  <thead>\n",
              "    <tr style=\"text-align: right;\">\n",
              "      <th></th>\n",
              "      <th>Time</th>\n",
              "      <th>V1</th>\n",
              "      <th>V2</th>\n",
              "      <th>V3</th>\n",
              "      <th>V4</th>\n",
              "      <th>V5</th>\n",
              "      <th>V6</th>\n",
              "      <th>V7</th>\n",
              "      <th>V8</th>\n",
              "      <th>V9</th>\n",
              "      <th>V10</th>\n",
              "      <th>V11</th>\n",
              "      <th>V12</th>\n",
              "      <th>V13</th>\n",
              "      <th>V14</th>\n",
              "      <th>V15</th>\n",
              "      <th>V16</th>\n",
              "      <th>V17</th>\n",
              "      <th>V18</th>\n",
              "      <th>V19</th>\n",
              "      <th>V20</th>\n",
              "      <th>V21</th>\n",
              "      <th>V22</th>\n",
              "      <th>V23</th>\n",
              "      <th>V24</th>\n",
              "      <th>V25</th>\n",
              "      <th>V26</th>\n",
              "      <th>V27</th>\n",
              "      <th>V28</th>\n",
              "      <th>Amount</th>\n",
              "      <th>Class</th>\n",
              "    </tr>\n",
              "  </thead>\n",
              "  <tbody>\n",
              "    <tr>\n",
              "      <th>73372</th>\n",
              "      <td>55105</td>\n",
              "      <td>1.104021</td>\n",
              "      <td>-1.123835</td>\n",
              "      <td>1.008939</td>\n",
              "      <td>-0.460960</td>\n",
              "      <td>-1.502758</td>\n",
              "      <td>0.021138</td>\n",
              "      <td>-1.055043</td>\n",
              "      <td>0.095135</td>\n",
              "      <td>-0.175413</td>\n",
              "      <td>0.400911</td>\n",
              "      <td>-0.268529</td>\n",
              "      <td>-0.156764</td>\n",
              "      <td>0.650541</td>\n",
              "      <td>-0.743181</td>\n",
              "      <td>0.579152</td>\n",
              "      <td>0.886203</td>\n",
              "      <td>0.570025</td>\n",
              "      <td>-1.503342</td>\n",
              "      <td>0.063454</td>\n",
              "      <td>0.290500</td>\n",
              "      <td>0.405906</td>\n",
              "      <td>1.054006</td>\n",
              "      <td>-0.174455</td>\n",
              "      <td>0.155852</td>\n",
              "      <td>0.358077</td>\n",
              "      <td>-0.030114</td>\n",
              "      <td>0.048490</td>\n",
              "      <td>0.042121</td>\n",
              "      <td>119.00</td>\n",
              "      <td>0.0</td>\n",
              "    </tr>\n",
              "    <tr>\n",
              "      <th>73373</th>\n",
              "      <td>55105</td>\n",
              "      <td>1.182898</td>\n",
              "      <td>-0.283273</td>\n",
              "      <td>1.123494</td>\n",
              "      <td>0.066948</td>\n",
              "      <td>-1.283276</td>\n",
              "      <td>-0.900451</td>\n",
              "      <td>-0.441870</td>\n",
              "      <td>-0.150647</td>\n",
              "      <td>0.784691</td>\n",
              "      <td>-0.440016</td>\n",
              "      <td>0.048261</td>\n",
              "      <td>1.280371</td>\n",
              "      <td>1.267539</td>\n",
              "      <td>-0.612574</td>\n",
              "      <td>0.011451</td>\n",
              "      <td>-0.213949</td>\n",
              "      <td>0.139330</td>\n",
              "      <td>-0.728218</td>\n",
              "      <td>0.080394</td>\n",
              "      <td>0.040402</td>\n",
              "      <td>0.082278</td>\n",
              "      <td>0.491790</td>\n",
              "      <td>-0.025468</td>\n",
              "      <td>1.078368</td>\n",
              "      <td>0.258355</td>\n",
              "      <td>1.415871</td>\n",
              "      <td>-0.060454</td>\n",
              "      <td>0.014606</td>\n",
              "      <td>22.71</td>\n",
              "      <td>0.0</td>\n",
              "    </tr>\n",
              "    <tr>\n",
              "      <th>73374</th>\n",
              "      <td>55106</td>\n",
              "      <td>1.168124</td>\n",
              "      <td>-0.122507</td>\n",
              "      <td>1.251822</td>\n",
              "      <td>0.860341</td>\n",
              "      <td>-1.020137</td>\n",
              "      <td>-0.277310</td>\n",
              "      <td>-0.557856</td>\n",
              "      <td>0.023732</td>\n",
              "      <td>0.802378</td>\n",
              "      <td>-0.268421</td>\n",
              "      <td>-0.592991</td>\n",
              "      <td>0.888388</td>\n",
              "      <td>0.891074</td>\n",
              "      <td>-0.573731</td>\n",
              "      <td>0.108537</td>\n",
              "      <td>0.125763</td>\n",
              "      <td>-0.224311</td>\n",
              "      <td>-0.336169</td>\n",
              "      <td>-0.046550</td>\n",
              "      <td>-0.031082</td>\n",
              "      <td>-0.077921</td>\n",
              "      <td>-0.005984</td>\n",
              "      <td>0.014309</td>\n",
              "      <td>0.452036</td>\n",
              "      <td>0.281031</td>\n",
              "      <td>0.313100</td>\n",
              "      <td>0.020995</td>\n",
              "      <td>0.030389</td>\n",
              "      <td>16.35</td>\n",
              "      <td>0.0</td>\n",
              "    </tr>\n",
              "    <tr>\n",
              "      <th>73375</th>\n",
              "      <td>55106</td>\n",
              "      <td>-0.339385</td>\n",
              "      <td>-2.095670</td>\n",
              "      <td>0.271543</td>\n",
              "      <td>-3.066469</td>\n",
              "      <td>0.484794</td>\n",
              "      <td>3.870704</td>\n",
              "      <td>-2.069399</td>\n",
              "      <td>0.184347</td>\n",
              "      <td>-1.615958</td>\n",
              "      <td>0.846124</td>\n",
              "      <td>-0.459483</td>\n",
              "      <td>-1.048904</td>\n",
              "      <td>0.597583</td>\n",
              "      <td>-0.547536</td>\n",
              "      <td>0.852233</td>\n",
              "      <td>0.825829</td>\n",
              "      <td>-0.491551</td>\n",
              "      <td>1.123656</td>\n",
              "      <td>-1.193623</td>\n",
              "      <td>0.240066</td>\n",
              "      <td>0.964115</td>\n",
              "      <td>-0.266112</td>\n",
              "      <td>-0.993763</td>\n",
              "      <td>1.033766</td>\n",
              "      <td>0.748706</td>\n",
              "      <td>-0.116168</td>\n",
              "      <td>0.153607</td>\n",
              "      <td>0.268881</td>\n",
              "      <td>322.34</td>\n",
              "      <td>0.0</td>\n",
              "    </tr>\n",
              "    <tr>\n",
              "      <th>73376</th>\n",
              "      <td>55107</td>\n",
              "      <td>-1.020407</td>\n",
              "      <td>0.160171</td>\n",
              "      <td>0.152264</td>\n",
              "      <td>-0.093406</td>\n",
              "      <td>-0.978017</td>\n",
              "      <td>0.074549</td>\n",
              "      <td>1.610152</td>\n",
              "      <td>0.117407</td>\n",
              "      <td>-0.948643</td>\n",
              "      <td>-0.946644</td>\n",
              "      <td>-1.042157</td>\n",
              "      <td>0.285608</td>\n",
              "      <td>1.505022</td>\n",
              "      <td>0.316336</td>\n",
              "      <td>1.070617</td>\n",
              "      <td>0.293405</td>\n",
              "      <td>-0.294508</td>\n",
              "      <td>-0.074202</td>\n",
              "      <td>1.100115</td>\n",
              "      <td>0.844151</td>\n",
              "      <td>0.109380</td>\n",
              "      <td>-0.400171</td>\n",
              "      <td>0.835422</td>\n",
              "      <td>-0.428141</td>\n",
              "      <td>-0.464220</td>\n",
              "      <td>NaN</td>\n",
              "      <td>NaN</td>\n",
              "      <td>NaN</td>\n",
              "      <td>NaN</td>\n",
              "      <td>NaN</td>\n",
              "    </tr>\n",
              "  </tbody>\n",
              "</table>\n",
              "</div>"
            ],
            "text/plain": [
              "        Time        V1        V2        V3  ...       V27       V28  Amount  Class\n",
              "73372  55105  1.104021 -1.123835  1.008939  ...  0.048490  0.042121  119.00    0.0\n",
              "73373  55105  1.182898 -0.283273  1.123494  ... -0.060454  0.014606   22.71    0.0\n",
              "73374  55106  1.168124 -0.122507  1.251822  ...  0.020995  0.030389   16.35    0.0\n",
              "73375  55106 -0.339385 -2.095670  0.271543  ...  0.153607  0.268881  322.34    0.0\n",
              "73376  55107 -1.020407  0.160171  0.152264  ...       NaN       NaN     NaN    NaN\n",
              "\n",
              "[5 rows x 31 columns]"
            ]
          },
          "metadata": {
            "tags": []
          },
          "execution_count": 5
        }
      ]
    },
    {
      "cell_type": "code",
      "metadata": {
        "id": "M6hFyI5H7rTW",
        "colab": {
          "base_uri": "https://localhost:8080/"
        },
        "outputId": "1c3c87f2-ba57-4eea-bd24-a42a0a4f8534"
      },
      "source": [
        "df['Class'].value_counts()"
      ],
      "execution_count": 6,
      "outputs": [
        {
          "output_type": "execute_result",
          "data": {
            "text/plain": [
              "0.0    73198\n",
              "1.0      178\n",
              "Name: Class, dtype: int64"
            ]
          },
          "metadata": {
            "tags": []
          },
          "execution_count": 6
        }
      ]
    },
    {
      "cell_type": "markdown",
      "metadata": {
        "id": "T52PZn_zVMLv"
      },
      "source": [
        "From the class level output, we can see it is imbalanced problem"
      ]
    },
    {
      "cell_type": "code",
      "metadata": {
        "id": "SuLMe-rU7rTW",
        "colab": {
          "base_uri": "https://localhost:8080/",
          "height": 288
        },
        "outputId": "9a13f992-ed24-4766-f577-d8049f301f85"
      },
      "source": [
        "pd.value_counts(df['Class']).plot.bar()"
      ],
      "execution_count": 7,
      "outputs": [
        {
          "output_type": "execute_result",
          "data": {
            "text/plain": [
              "<matplotlib.axes._subplots.AxesSubplot at 0x7f25c56ee860>"
            ]
          },
          "metadata": {
            "tags": []
          },
          "execution_count": 7
        },
        {
          "output_type": "display_data",
          "data": {
            "image/png": "[encoded data removed]",
            "text/plain": [
              "<Figure size 432x288 with 1 Axes>"
            ]
          },
          "metadata": {
            "tags": [],
            "needs_background": "light"
          }
        }
      ]
    },
    {
      "cell_type": "code",
      "metadata": {
        "id": "oUJDgr_X7rTW"
      },
      "source": [
        "### We will do the following\n",
        "#Step1 -We Will Create an ANN and solve this problem(ROC AUC) \n",
        "#Step2- We will use some Weights handling techniques to solve this imbalanced then we create\n",
        "#The ANN"
      ],
      "execution_count": 8,
      "outputs": []
    },
    {
      "cell_type": "code",
      "metadata": {
        "id": "GM31_QXe7rTW",
        "colab": {
          "base_uri": "https://localhost:8080/"
        },
        "outputId": "4ee8cf58-3ede-4103-f348-8b795e75fa86"
      },
      "source": [
        "df.info()"
      ],
      "execution_count": 9,
      "outputs": [
        {
          "output_type": "stream",
          "text": [
            "<class 'pandas.core.frame.DataFrame'>\n",
            "RangeIndex: 73377 entries, 0 to 73376\n",
            "Data columns (total 31 columns):\n",
            " #   Column  Non-Null Count  Dtype  \n",
            "---  ------  --------------  -----  \n",
            " 0   Time    73377 non-null  int64  \n",
            " 1   V1      73377 non-null  float64\n",
            " 2   V2      73377 non-null  float64\n",
            " 3   V3      73377 non-null  float64\n",
            " 4   V4      73377 non-null  float64\n",
            " 5   V5      73377 non-null  float64\n",
            " 6   V6      73377 non-null  float64\n",
            " 7   V7      73377 non-null  float64\n",
            " 8   V8      73377 non-null  float64\n",
            " 9   V9      73377 non-null  float64\n",
            " 10  V10     73377 non-null  float64\n",
            " 11  V11     73377 non-null  float64\n",
            " 12  V12     73377 non-null  float64\n",
            " 13  V13     73377 non-null  float64\n",
            " 14  V14     73377 non-null  float64\n",
            " 15  V15     73377 non-null  float64\n",
            " 16  V16     73377 non-null  float64\n",
            " 17  V17     73377 non-null  float64\n",
            " 18  V18     73377 non-null  float64\n",
            " 19  V19     73377 non-null  float64\n",
            " 20  V20     73377 non-null  float64\n",
            " 21  V21     73377 non-null  float64\n",
            " 22  V22     73377 non-null  float64\n",
            " 23  V23     73377 non-null  float64\n",
            " 24  V24     73377 non-null  float64\n",
            " 25  V25     73377 non-null  float64\n",
            " 26  V26     73376 non-null  float64\n",
            " 27  V27     73376 non-null  float64\n",
            " 28  V28     73376 non-null  float64\n",
            " 29  Amount  73376 non-null  float64\n",
            " 30  Class   73376 non-null  float64\n",
            "dtypes: float64(30), int64(1)\n",
            "memory usage: 17.4 MB\n"
          ],
          "name": "stdout"
        }
      ]
    },
    {
      "cell_type": "markdown",
      "metadata": {
        "id": "BaJGZ7yfV9We"
      },
      "source": [
        "Ignore the Time column as it has very less variance values "
      ]
    },
    {
      "cell_type": "code",
      "metadata": {
        "colab": {
          "base_uri": "https://localhost:8080/"
        },
        "id": "dV-VkgAGXEaq",
        "outputId": "113accc6-c5d3-442d-b489-6bb818085b57"
      },
      "source": [
        "df.isnull().sum()"
      ],
      "execution_count": 20,
      "outputs": [
        {
          "output_type": "execute_result",
          "data": {
            "text/plain": [
              "Time      0\n",
              "V1        0\n",
              "V2        0\n",
              "V3        0\n",
              "V4        0\n",
              "V5        0\n",
              "V6        0\n",
              "V7        0\n",
              "V8        0\n",
              "V9        0\n",
              "V10       0\n",
              "V11       0\n",
              "V12       0\n",
              "V13       0\n",
              "V14       0\n",
              "V15       0\n",
              "V16       0\n",
              "V17       0\n",
              "V18       0\n",
              "V19       0\n",
              "V20       0\n",
              "V21       0\n",
              "V22       0\n",
              "V23       0\n",
              "V24       0\n",
              "V25       0\n",
              "V26       1\n",
              "V27       1\n",
              "V28       1\n",
              "Amount    1\n",
              "Class     1\n",
              "dtype: int64"
            ]
          },
          "metadata": {
            "tags": []
          },
          "execution_count": 20
        }
      ]
    },
    {
      "cell_type": "code",
      "metadata": {
        "id": "Sm7PJ40HXMF8"
      },
      "source": [
        "df = df.dropna()"
      ],
      "execution_count": 21,
      "outputs": []
    },
    {
      "cell_type": "code",
      "metadata": {
        "id": "ckvg_syp7rTX"
      },
      "source": [
        "X=df.iloc[:,1:30]\n",
        "y=df.iloc[:,-1]"
      ],
      "execution_count": 22,
      "outputs": []
    },
    {
      "cell_type": "code",
      "metadata": {
        "id": "Usf2GXwg7rTX",
        "colab": {
          "base_uri": "https://localhost:8080/",
          "height": 224
        },
        "outputId": "51fc129c-4a2b-4c34-c84b-1b434f36d87a"
      },
      "source": [
        "X.head()"
      ],
      "execution_count": 23,
      "outputs": [
        {
          "output_type": "execute_result",
          "data": {
            "text/html": [
              "<div>\n",
              "<style scoped>\n",
              "    .dataframe tbody tr th:only-of-type {\n",
              "        vertical-align: middle;\n",
              "    }\n",
              "\n",
              "    .dataframe tbody tr th {\n",
              "        vertical-align: top;\n",
              "    }\n",
              "\n",
              "    .dataframe thead th {\n",
              "        text-align: right;\n",
              "    }\n",
              "</style>\n",
              "<table border=\"1\" class=\"dataframe\">\n",
              "  <thead>\n",
              "    <tr style=\"text-align: right;\">\n",
              "      <th></th>\n",
              "      <th>V1</th>\n",
              "      <th>V2</th>\n",
              "      <th>V3</th>\n",
              "      <th>V4</th>\n",
              "      <th>V5</th>\n",
              "      <th>V6</th>\n",
              "      <th>V7</th>\n",
              "      <th>V8</th>\n",
              "      <th>V9</th>\n",
              "      <th>V10</th>\n",
              "      <th>V11</th>\n",
              "      <th>V12</th>\n",
              "      <th>V13</th>\n",
              "      <th>V14</th>\n",
              "      <th>V15</th>\n",
              "      <th>V16</th>\n",
              "      <th>V17</th>\n",
              "      <th>V18</th>\n",
              "      <th>V19</th>\n",
              "      <th>V20</th>\n",
              "      <th>V21</th>\n",
              "      <th>V22</th>\n",
              "      <th>V23</th>\n",
              "      <th>V24</th>\n",
              "      <th>V25</th>\n",
              "      <th>V26</th>\n",
              "      <th>V27</th>\n",
              "      <th>V28</th>\n",
              "      <th>Amount</th>\n",
              "    </tr>\n",
              "  </thead>\n",
              "  <tbody>\n",
              "    <tr>\n",
              "      <th>0</th>\n",
              "      <td>-1.359807</td>\n",
              "      <td>-0.072781</td>\n",
              "      <td>2.536347</td>\n",
              "      <td>1.378155</td>\n",
              "      <td>-0.338321</td>\n",
              "      <td>0.462388</td>\n",
              "      <td>0.239599</td>\n",
              "      <td>0.098698</td>\n",
              "      <td>0.363787</td>\n",
              "      <td>0.090794</td>\n",
              "      <td>-0.551600</td>\n",
              "      <td>-0.617801</td>\n",
              "      <td>-0.991390</td>\n",
              "      <td>-0.311169</td>\n",
              "      <td>1.468177</td>\n",
              "      <td>-0.470401</td>\n",
              "      <td>0.207971</td>\n",
              "      <td>0.025791</td>\n",
              "      <td>0.403993</td>\n",
              "      <td>0.251412</td>\n",
              "      <td>-0.018307</td>\n",
              "      <td>0.277838</td>\n",
              "      <td>-0.110474</td>\n",
              "      <td>0.066928</td>\n",
              "      <td>0.128539</td>\n",
              "      <td>-0.189115</td>\n",
              "      <td>0.133558</td>\n",
              "      <td>-0.021053</td>\n",
              "      <td>149.62</td>\n",
              "    </tr>\n",
              "    <tr>\n",
              "      <th>1</th>\n",
              "      <td>1.191857</td>\n",
              "      <td>0.266151</td>\n",
              "      <td>0.166480</td>\n",
              "      <td>0.448154</td>\n",
              "      <td>0.060018</td>\n",
              "      <td>-0.082361</td>\n",
              "      <td>-0.078803</td>\n",
              "      <td>0.085102</td>\n",
              "      <td>-0.255425</td>\n",
              "      <td>-0.166974</td>\n",
              "      <td>1.612727</td>\n",
              "      <td>1.065235</td>\n",
              "      <td>0.489095</td>\n",
              "      <td>-0.143772</td>\n",
              "      <td>0.635558</td>\n",
              "      <td>0.463917</td>\n",
              "      <td>-0.114805</td>\n",
              "      <td>-0.183361</td>\n",
              "      <td>-0.145783</td>\n",
              "      <td>-0.069083</td>\n",
              "      <td>-0.225775</td>\n",
              "      <td>-0.638672</td>\n",
              "      <td>0.101288</td>\n",
              "      <td>-0.339846</td>\n",
              "      <td>0.167170</td>\n",
              "      <td>0.125895</td>\n",
              "      <td>-0.008983</td>\n",
              "      <td>0.014724</td>\n",
              "      <td>2.69</td>\n",
              "    </tr>\n",
              "    <tr>\n",
              "      <th>2</th>\n",
              "      <td>-1.358354</td>\n",
              "      <td>-1.340163</td>\n",
              "      <td>1.773209</td>\n",
              "      <td>0.379780</td>\n",
              "      <td>-0.503198</td>\n",
              "      <td>1.800499</td>\n",
              "      <td>0.791461</td>\n",
              "      <td>0.247676</td>\n",
              "      <td>-1.514654</td>\n",
              "      <td>0.207643</td>\n",
              "      <td>0.624501</td>\n",
              "      <td>0.066084</td>\n",
              "      <td>0.717293</td>\n",
              "      <td>-0.165946</td>\n",
              "      <td>2.345865</td>\n",
              "      <td>-2.890083</td>\n",
              "      <td>1.109969</td>\n",
              "      <td>-0.121359</td>\n",
              "      <td>-2.261857</td>\n",
              "      <td>0.524980</td>\n",
              "      <td>0.247998</td>\n",
              "      <td>0.771679</td>\n",
              "      <td>0.909412</td>\n",
              "      <td>-0.689281</td>\n",
              "      <td>-0.327642</td>\n",
              "      <td>-0.139097</td>\n",
              "      <td>-0.055353</td>\n",
              "      <td>-0.059752</td>\n",
              "      <td>378.66</td>\n",
              "    </tr>\n",
              "    <tr>\n",
              "      <th>3</th>\n",
              "      <td>-0.966272</td>\n",
              "      <td>-0.185226</td>\n",
              "      <td>1.792993</td>\n",
              "      <td>-0.863291</td>\n",
              "      <td>-0.010309</td>\n",
              "      <td>1.247203</td>\n",
              "      <td>0.237609</td>\n",
              "      <td>0.377436</td>\n",
              "      <td>-1.387024</td>\n",
              "      <td>-0.054952</td>\n",
              "      <td>-0.226487</td>\n",
              "      <td>0.178228</td>\n",
              "      <td>0.507757</td>\n",
              "      <td>-0.287924</td>\n",
              "      <td>-0.631418</td>\n",
              "      <td>-1.059647</td>\n",
              "      <td>-0.684093</td>\n",
              "      <td>1.965775</td>\n",
              "      <td>-1.232622</td>\n",
              "      <td>-0.208038</td>\n",
              "      <td>-0.108300</td>\n",
              "      <td>0.005274</td>\n",
              "      <td>-0.190321</td>\n",
              "      <td>-1.175575</td>\n",
              "      <td>0.647376</td>\n",
              "      <td>-0.221929</td>\n",
              "      <td>0.062723</td>\n",
              "      <td>0.061458</td>\n",
              "      <td>123.50</td>\n",
              "    </tr>\n",
              "    <tr>\n",
              "      <th>4</th>\n",
              "      <td>-1.158233</td>\n",
              "      <td>0.877737</td>\n",
              "      <td>1.548718</td>\n",
              "      <td>0.403034</td>\n",
              "      <td>-0.407193</td>\n",
              "      <td>0.095921</td>\n",
              "      <td>0.592941</td>\n",
              "      <td>-0.270533</td>\n",
              "      <td>0.817739</td>\n",
              "      <td>0.753074</td>\n",
              "      <td>-0.822843</td>\n",
              "      <td>0.538196</td>\n",
              "      <td>1.345852</td>\n",
              "      <td>-1.119670</td>\n",
              "      <td>0.175121</td>\n",
              "      <td>-0.451449</td>\n",
              "      <td>-0.237033</td>\n",
              "      <td>-0.038195</td>\n",
              "      <td>0.803487</td>\n",
              "      <td>0.408542</td>\n",
              "      <td>-0.009431</td>\n",
              "      <td>0.798278</td>\n",
              "      <td>-0.137458</td>\n",
              "      <td>0.141267</td>\n",
              "      <td>-0.206010</td>\n",
              "      <td>0.502292</td>\n",
              "      <td>0.219422</td>\n",
              "      <td>0.215153</td>\n",
              "      <td>69.99</td>\n",
              "    </tr>\n",
              "  </tbody>\n",
              "</table>\n",
              "</div>"
            ],
            "text/plain": [
              "         V1        V2        V3        V4  ...       V26       V27       V28  Amount\n",
              "0 -1.359807 -0.072781  2.536347  1.378155  ... -0.189115  0.133558 -0.021053  149.62\n",
              "1  1.191857  0.266151  0.166480  0.448154  ...  0.125895 -0.008983  0.014724    2.69\n",
              "2 -1.358354 -1.340163  1.773209  0.379780  ... -0.139097 -0.055353 -0.059752  378.66\n",
              "3 -0.966272 -0.185226  1.792993 -0.863291  ... -0.221929  0.062723  0.061458  123.50\n",
              "4 -1.158233  0.877737  1.548718  0.403034  ...  0.502292  0.219422  0.215153   69.99\n",
              "\n",
              "[5 rows x 29 columns]"
            ]
          },
          "metadata": {
            "tags": []
          },
          "execution_count": 23
        }
      ]
    },
    {
      "cell_type": "code",
      "metadata": {
        "id": "c4oIKfry7rTX",
        "colab": {
          "base_uri": "https://localhost:8080/"
        },
        "outputId": "589f09c6-4a34-4fe0-e0a4-0466daf1b0f3"
      },
      "source": [
        "y.head()"
      ],
      "execution_count": 24,
      "outputs": [
        {
          "output_type": "execute_result",
          "data": {
            "text/plain": [
              "0    0.0\n",
              "1    0.0\n",
              "2    0.0\n",
              "3    0.0\n",
              "4    0.0\n",
              "Name: Class, dtype: float64"
            ]
          },
          "metadata": {
            "tags": []
          },
          "execution_count": 24
        }
      ]
    },
    {
      "cell_type": "code",
      "metadata": {
        "id": "A7IM96XK7rTX"
      },
      "source": [
        "from sklearn.model_selection import train_test_split"
      ],
      "execution_count": 25,
      "outputs": []
    },
    {
      "cell_type": "code",
      "metadata": {
        "id": "XmLs3E3N7rTX"
      },
      "source": [
        "X_train, X_test, y_train, y_test = train_test_split(X, y, test_size=0.30, random_state=42)"
      ],
      "execution_count": 26,
      "outputs": []
    },
    {
      "cell_type": "code",
      "metadata": {
        "id": "B_PwXH5l7rTX",
        "colab": {
          "base_uri": "https://localhost:8080/"
        },
        "outputId": "f26db336-b1be-4901-ffce-0366fd092502"
      },
      "source": [
        "y_train.value_counts()"
      ],
      "execution_count": 27,
      "outputs": [
        {
          "output_type": "execute_result",
          "data": {
            "text/plain": [
              "0.0    51240\n",
              "1.0      123\n",
              "Name: Class, dtype: int64"
            ]
          },
          "metadata": {
            "tags": []
          },
          "execution_count": 27
        }
      ]
    },
    {
      "cell_type": "code",
      "metadata": {
        "id": "yQqXN1DE7rTa"
      },
      "source": [
        "##Step1\n",
        "import tensorflow\n",
        "from tensorflow.keras.layers import Dense\n",
        "from tensorflow.keras.models import Sequential"
      ],
      "execution_count": 28,
      "outputs": []
    },
    {
      "cell_type": "code",
      "metadata": {
        "id": "LmsS5hlf7rTa",
        "colab": {
          "base_uri": "https://localhost:8080/"
        },
        "outputId": "10d25ccc-330b-4c11-fe05-f76f6bb5edc0"
      },
      "source": [
        "print(len(X.columns))\n",
        "n_inputs=29"
      ],
      "execution_count": 29,
      "outputs": [
        {
          "output_type": "stream",
          "text": [
            "29\n"
          ],
          "name": "stdout"
        }
      ]
    },
    {
      "cell_type": "code",
      "metadata": {
        "id": "Fk7KoS-m7rTa",
        "colab": {
          "base_uri": "https://localhost:8080/"
        },
        "outputId": "2ce2121f-2a04-422a-ac02-a0b7a677766f"
      },
      "source": [
        "# define model\n",
        "model = Sequential()\n",
        "# define first hidden layer and visible layer\n",
        "model.add(Dense(50, input_dim=n_inputs, activation='relu', kernel_initializer='he_uniform'))\n",
        "# define output layer\n",
        "model.add(Dense(1, activation='sigmoid'))\n",
        "# define loss and optimizer\n",
        "model.compile(loss='binary_crossentropy', optimizer='adam')\n",
        "model.fit(X_train,y_train,epochs=10)"
      ],
      "execution_count": 30,
      "outputs": [
        {
          "output_type": "stream",
          "text": [
            "Epoch 1/10\n",
            "1606/1606 [==============================] - 2s 1ms/step - loss: 0.0946\n",
            "Epoch 2/10\n",
            "1606/1606 [==============================] - 2s 1ms/step - loss: 0.0092\n",
            "Epoch 3/10\n",
            "1606/1606 [==============================] - 2s 1ms/step - loss: 0.0122\n",
            "Epoch 4/10\n",
            "1606/1606 [==============================] - 2s 1ms/step - loss: 0.0087\n",
            "Epoch 5/10\n",
            "1606/1606 [==============================] - 2s 1ms/step - loss: 0.0102\n",
            "Epoch 6/10\n",
            "1606/1606 [==============================] - 2s 1ms/step - loss: 0.0132\n",
            "Epoch 7/10\n",
            "1606/1606 [==============================] - 2s 1ms/step - loss: 0.0226\n",
            "Epoch 8/10\n",
            "1606/1606 [==============================] - 2s 1ms/step - loss: 0.0048\n",
            "Epoch 9/10\n",
            "1606/1606 [==============================] - 2s 1ms/step - loss: 0.0101\n",
            "Epoch 10/10\n",
            "1606/1606 [==============================] - 2s 1ms/step - loss: 0.0152\n"
          ],
          "name": "stdout"
        },
        {
          "output_type": "execute_result",
          "data": {
            "text/plain": [
              "<tensorflow.python.keras.callbacks.History at 0x7f25804badd8>"
            ]
          },
          "metadata": {
            "tags": []
          },
          "execution_count": 30
        }
      ]
    },
    {
      "cell_type": "code",
      "metadata": {
        "id": "R6xee2m07rTa",
        "colab": {
          "base_uri": "https://localhost:8080/"
        },
        "outputId": "e99f7294-397e-4c65-b396-b6bf7e702ffd"
      },
      "source": [
        "from sklearn.metrics import roc_auc_score\n",
        "y_pred1=model.predict(X_test)\n",
        "y_pred1"
      ],
      "execution_count": 34,
      "outputs": [
        {
          "output_type": "execute_result",
          "data": {
            "text/plain": [
              "array([[0.0000000e+00],\n",
              "       [1.1476488e-36],\n",
              "       [2.2729296e-06],\n",
              "       ...,\n",
              "       [2.2404335e-11],\n",
              "       [6.4103006e-08],\n",
              "       [8.3365876e-06]], dtype=float32)"
            ]
          },
          "metadata": {
            "tags": []
          },
          "execution_count": 34
        }
      ]
    },
    {
      "cell_type": "code",
      "metadata": {
        "id": "U7mGpAfcY0xk"
      },
      "source": [
        "print(roc_auc_score(y_test,y_pred1))"
      ],
      "execution_count": null,
      "outputs": []
    },
    {
      "cell_type": "markdown",
      "metadata": {
        "id": "QjJxXvyw7rTb"
      },
      "source": [
        "### Weighted Neural Network With Keras\n",
        "* Define Weights\n",
        "* Fit the model with thos specific weights\n"
      ]
    },
    {
      "cell_type": "code",
      "metadata": {
        "id": "L9wE_y_37rTb"
      },
      "source": [
        "weights_assigned={0:1,1:550}"
      ],
      "execution_count": 35,
      "outputs": []
    },
    {
      "cell_type": "code",
      "metadata": {
        "id": "baTfv0ii7rTb",
        "colab": {
          "base_uri": "https://localhost:8080/"
        },
        "outputId": "db7ac8e6-4e6e-4c66-cecb-31a04893d970"
      },
      "source": [
        "# define model\n",
        "model = Sequential()\n",
        "# define first hidden layer and visible layer\n",
        "model.add(Dense(50, input_dim=n_inputs, activation='relu', kernel_initializer='he_uniform'))\n",
        "# define output layer\n",
        "model.add(Dense(1, activation='sigmoid'))\n",
        "# define loss and optimizer\n",
        "model.compile(loss='binary_crossentropy', optimizer='adam')\n",
        "model.fit(X_train,y_train,class_weight=weights_assigned,epochs=10)"
      ],
      "execution_count": 36,
      "outputs": [
        {
          "output_type": "stream",
          "text": [
            "Epoch 1/10\n",
            "1606/1606 [==============================] - 2s 1ms/step - loss: 3.6530\n",
            "Epoch 2/10\n",
            "1606/1606 [==============================] - 2s 1ms/step - loss: 5.2639\n",
            "Epoch 3/10\n",
            "1606/1606 [==============================] - 2s 1ms/step - loss: 3.4559\n",
            "Epoch 4/10\n",
            "1606/1606 [==============================] - 2s 1ms/step - loss: 3.3018\n",
            "Epoch 5/10\n",
            "1606/1606 [==============================] - 2s 1ms/step - loss: 1.1469\n",
            "Epoch 6/10\n",
            "1606/1606 [==============================] - 2s 1ms/step - loss: 3.6103\n",
            "Epoch 7/10\n",
            "1606/1606 [==============================] - 2s 1ms/step - loss: 3.4353\n",
            "Epoch 8/10\n",
            "1606/1606 [==============================] - 2s 1ms/step - loss: 1.0164\n",
            "Epoch 9/10\n",
            "1606/1606 [==============================] - 2s 1ms/step - loss: 0.6925\n",
            "Epoch 10/10\n",
            "1606/1606 [==============================] - 2s 1ms/step - loss: 4.2996\n"
          ],
          "name": "stdout"
        },
        {
          "output_type": "execute_result",
          "data": {
            "text/plain": [
              "<tensorflow.python.keras.callbacks.History at 0x7f257e3335f8>"
            ]
          },
          "metadata": {
            "tags": []
          },
          "execution_count": 36
        }
      ]
    },
    {
      "cell_type": "code",
      "metadata": {
        "id": "A4yT8aDY7rTb"
      },
      "source": [
        "y_pred=model.predict(X_test)"
      ],
      "execution_count": 37,
      "outputs": []
    },
    {
      "cell_type": "code",
      "metadata": {
        "id": "Q--kxMUa7rTb"
      },
      "source": [
        "from sklearn.metrics import roc_auc_score"
      ],
      "execution_count": 38,
      "outputs": []
    },
    {
      "cell_type": "code",
      "metadata": {
        "id": "0n_Dw-997rTb",
        "colab": {
          "base_uri": "https://localhost:8080/"
        },
        "outputId": "b0d629fe-5155-493b-cbe7-c323165affaf"
      },
      "source": [
        "roc_auc_score(y_test,y_pred)"
      ],
      "execution_count": 39,
      "outputs": [
        {
          "output_type": "execute_result",
          "data": {
            "text/plain": [
              "0.9895817635320322"
            ]
          },
          "metadata": {
            "tags": []
          },
          "execution_count": 39
        }
      ]
    }
  ]
}