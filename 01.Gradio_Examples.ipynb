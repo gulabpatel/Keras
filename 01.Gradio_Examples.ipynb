{
  "nbformat": 4,
  "nbformat_minor": 5,
  "metadata": {
    "kernelspec": {
      "display_name": "Python 3",
      "language": "python",
      "name": "python3"
    },
    "language_info": {
      "codemirror_mode": {
        "name": "ipython",
        "version": 3
      },
      "file_extension": ".py",
      "mimetype": "text/x-python",
      "name": "python",
      "nbconvert_exporter": "python",
      "pygments_lexer": "ipython3",
      "version": "3.7.10"
    },
    "colab": {
      "name": "01.Gradio_Examples.ipynb",
      "provenance": [],
      "collapsed_sections": [],
      "include_colab_link": true
    },
    "accelerator": "GPU"
  },
  "cells": [
    {
      "cell_type": "markdown",
      "metadata": {
        "id": "view-in-github",
        "colab_type": "text"
      },
      "source": [
        "<a href=\"https://colab.research.google.com/github/gulabpatel/Keras/blob/main/01.Gradio_Examples.ipynb\" target=\"_parent\"><img src=\"https://colab.research.google.com/assets/colab-badge.svg\" alt=\"Open In Colab\"/></a>"
      ]
    },
    {
      "cell_type": "markdown",
      "metadata": {
        "id": "09eb5ef2"
      },
      "source": [
        "#### Gradio Comparing Transfer Learning Models\n",
        "\n",
        "Help is available [here](https://www.youtube.com/watch?v=wruyZWre2sM&t=5s)."
      ],
      "id": "09eb5ef2"
    },
    {
      "cell_type": "code",
      "metadata": {
        "id": "bee4dba3",
        "colab": {
          "base_uri": "https://localhost:8080/"
        },
        "outputId": "1eb6c9b1-0844-4ea0-f87d-953276c72264"
      },
      "source": [
        "!pip install gradio"
      ],
      "id": "bee4dba3",
      "execution_count": 1,
      "outputs": [
        {
          "output_type": "stream",
          "text": [
            "Collecting gradio\n",
            "\u001b[?25l  Downloading https://files.pythonhosted.org/packages/26/44/c02fac051c04a3a71980e5e196398c3a4ae5f127f2ef2ef02745faf6b9e4/gradio-1.6.4-py3-none-any.whl (1.1MB)\n",
            "\r\u001b[K     |▎                               | 10kB 22.1MB/s eta 0:00:01\r\u001b[K     |▋                               | 20kB 30.0MB/s eta 0:00:01\r\u001b[K     |▉                               | 30kB 24.2MB/s eta 0:00:01\r\u001b[K     |█▏                              | 40kB 27.8MB/s eta 0:00:01\r\u001b[K     |█▌                              | 51kB 25.9MB/s eta 0:00:01\r\u001b[K     |█▊                              | 61kB 28.5MB/s eta 0:00:01\r\u001b[K     |██                              | 71kB 18.7MB/s eta 0:00:01\r\u001b[K     |██▎                             | 81kB 19.8MB/s eta 0:00:01\r\u001b[K     |██▋                             | 92kB 18.3MB/s eta 0:00:01\r\u001b[K     |███                             | 102kB 18.4MB/s eta 0:00:01\r\u001b[K     |███▏                            | 112kB 18.4MB/s eta 0:00:01\r\u001b[K     |███▌                            | 122kB 18.4MB/s eta 0:00:01\r\u001b[K     |███▉                            | 133kB 18.4MB/s eta 0:00:01\r\u001b[K     |████                            | 143kB 18.4MB/s eta 0:00:01\r\u001b[K     |████▍                           | 153kB 18.4MB/s eta 0:00:01\r\u001b[K     |████▋                           | 163kB 18.4MB/s eta 0:00:01\r\u001b[K     |█████                           | 174kB 18.4MB/s eta 0:00:01\r\u001b[K     |█████▎                          | 184kB 18.4MB/s eta 0:00:01\r\u001b[K     |█████▌                          | 194kB 18.4MB/s eta 0:00:01\r\u001b[K     |█████▉                          | 204kB 18.4MB/s eta 0:00:01\r\u001b[K     |██████▏                         | 215kB 18.4MB/s eta 0:00:01\r\u001b[K     |██████▍                         | 225kB 18.4MB/s eta 0:00:01\r\u001b[K     |██████▊                         | 235kB 18.4MB/s eta 0:00:01\r\u001b[K     |███████                         | 245kB 18.4MB/s eta 0:00:01\r\u001b[K     |███████▎                        | 256kB 18.4MB/s eta 0:00:01\r\u001b[K     |███████▋                        | 266kB 18.4MB/s eta 0:00:01\r\u001b[K     |███████▉                        | 276kB 18.4MB/s eta 0:00:01\r\u001b[K     |████████▏                       | 286kB 18.4MB/s eta 0:00:01\r\u001b[K     |████████▌                       | 296kB 18.4MB/s eta 0:00:01\r\u001b[K     |████████▊                       | 307kB 18.4MB/s eta 0:00:01\r\u001b[K     |█████████                       | 317kB 18.4MB/s eta 0:00:01\r\u001b[K     |█████████▎                      | 327kB 18.4MB/s eta 0:00:01\r\u001b[K     |█████████▋                      | 337kB 18.4MB/s eta 0:00:01\r\u001b[K     |██████████                      | 348kB 18.4MB/s eta 0:00:01\r\u001b[K     |██████████▏                     | 358kB 18.4MB/s eta 0:00:01\r\u001b[K     |██████████▌                     | 368kB 18.4MB/s eta 0:00:01\r\u001b[K     |██████████▊                     | 378kB 18.4MB/s eta 0:00:01\r\u001b[K     |███████████                     | 389kB 18.4MB/s eta 0:00:01\r\u001b[K     |███████████▍                    | 399kB 18.4MB/s eta 0:00:01\r\u001b[K     |███████████▋                    | 409kB 18.4MB/s eta 0:00:01\r\u001b[K     |████████████                    | 419kB 18.4MB/s eta 0:00:01\r\u001b[K     |████████████▎                   | 430kB 18.4MB/s eta 0:00:01\r\u001b[K     |████████████▌                   | 440kB 18.4MB/s eta 0:00:01\r\u001b[K     |████████████▉                   | 450kB 18.4MB/s eta 0:00:01\r\u001b[K     |█████████████                   | 460kB 18.4MB/s eta 0:00:01\r\u001b[K     |█████████████▍                  | 471kB 18.4MB/s eta 0:00:01\r\u001b[K     |█████████████▊                  | 481kB 18.4MB/s eta 0:00:01\r\u001b[K     |██████████████                  | 491kB 18.4MB/s eta 0:00:01\r\u001b[K     |██████████████▎                 | 501kB 18.4MB/s eta 0:00:01\r\u001b[K     |██████████████▋                 | 512kB 18.4MB/s eta 0:00:01\r\u001b[K     |██████████████▉                 | 522kB 18.4MB/s eta 0:00:01\r\u001b[K     |███████████████▏                | 532kB 18.4MB/s eta 0:00:01\r\u001b[K     |███████████████▍                | 542kB 18.4MB/s eta 0:00:01\r\u001b[K     |███████████████▊                | 552kB 18.4MB/s eta 0:00:01\r\u001b[K     |████████████████                | 563kB 18.4MB/s eta 0:00:01\r\u001b[K     |████████████████▎               | 573kB 18.4MB/s eta 0:00:01\r\u001b[K     |████████████████▋               | 583kB 18.4MB/s eta 0:00:01\r\u001b[K     |█████████████████               | 593kB 18.4MB/s eta 0:00:01\r\u001b[K     |█████████████████▏              | 604kB 18.4MB/s eta 0:00:01\r\u001b[K     |█████████████████▌              | 614kB 18.4MB/s eta 0:00:01\r\u001b[K     |█████████████████▊              | 624kB 18.4MB/s eta 0:00:01\r\u001b[K     |██████████████████              | 634kB 18.4MB/s eta 0:00:01\r\u001b[K     |██████████████████▍             | 645kB 18.4MB/s eta 0:00:01\r\u001b[K     |██████████████████▋             | 655kB 18.4MB/s eta 0:00:01\r\u001b[K     |███████████████████             | 665kB 18.4MB/s eta 0:00:01\r\u001b[K     |███████████████████▎            | 675kB 18.4MB/s eta 0:00:01\r\u001b[K     |███████████████████▌            | 686kB 18.4MB/s eta 0:00:01\r\u001b[K     |███████████████████▉            | 696kB 18.4MB/s eta 0:00:01\r\u001b[K     |████████████████████            | 706kB 18.4MB/s eta 0:00:01\r\u001b[K     |████████████████████▍           | 716kB 18.4MB/s eta 0:00:01\r\u001b[K     |████████████████████▊           | 727kB 18.4MB/s eta 0:00:01\r\u001b[K     |█████████████████████           | 737kB 18.4MB/s eta 0:00:01\r\u001b[K     |█████████████████████▎          | 747kB 18.4MB/s eta 0:00:01\r\u001b[K     |█████████████████████▌          | 757kB 18.4MB/s eta 0:00:01\r\u001b[K     |█████████████████████▉          | 768kB 18.4MB/s eta 0:00:01\r\u001b[K     |██████████████████████▏         | 778kB 18.4MB/s eta 0:00:01\r\u001b[K     |██████████████████████▍         | 788kB 18.4MB/s eta 0:00:01\r\u001b[K     |██████████████████████▊         | 798kB 18.4MB/s eta 0:00:01\r\u001b[K     |███████████████████████         | 808kB 18.4MB/s eta 0:00:01\r\u001b[K     |███████████████████████▎        | 819kB 18.4MB/s eta 0:00:01\r\u001b[K     |███████████████████████▋        | 829kB 18.4MB/s eta 0:00:01\r\u001b[K     |███████████████████████▉        | 839kB 18.4MB/s eta 0:00:01\r\u001b[K     |████████████████████████▏       | 849kB 18.4MB/s eta 0:00:01\r\u001b[K     |████████████████████████▌       | 860kB 18.4MB/s eta 0:00:01\r\u001b[K     |████████████████████████▊       | 870kB 18.4MB/s eta 0:00:01\r\u001b[K     |█████████████████████████       | 880kB 18.4MB/s eta 0:00:01\r\u001b[K     |█████████████████████████▍      | 890kB 18.4MB/s eta 0:00:01\r\u001b[K     |█████████████████████████▋      | 901kB 18.4MB/s eta 0:00:01\r\u001b[K     |██████████████████████████      | 911kB 18.4MB/s eta 0:00:01\r\u001b[K     |██████████████████████████▏     | 921kB 18.4MB/s eta 0:00:01\r\u001b[K     |██████████████████████████▌     | 931kB 18.4MB/s eta 0:00:01\r\u001b[K     |██████████████████████████▉     | 942kB 18.4MB/s eta 0:00:01\r\u001b[K     |███████████████████████████     | 952kB 18.4MB/s eta 0:00:01\r\u001b[K     |███████████████████████████▍    | 962kB 18.4MB/s eta 0:00:01\r\u001b[K     |███████████████████████████▊    | 972kB 18.4MB/s eta 0:00:01\r\u001b[K     |████████████████████████████    | 983kB 18.4MB/s eta 0:00:01\r\u001b[K     |████████████████████████████▎   | 993kB 18.4MB/s eta 0:00:01\r\u001b[K     |████████████████████████████▌   | 1.0MB 18.4MB/s eta 0:00:01\r\u001b[K     |████████████████████████████▉   | 1.0MB 18.4MB/s eta 0:00:01\r\u001b[K     |█████████████████████████████▏  | 1.0MB 18.4MB/s eta 0:00:01\r\u001b[K     |█████████████████████████████▍  | 1.0MB 18.4MB/s eta 0:00:01\r\u001b[K     |█████████████████████████████▊  | 1.0MB 18.4MB/s eta 0:00:01\r\u001b[K     |██████████████████████████████  | 1.1MB 18.4MB/s eta 0:00:01\r\u001b[K     |██████████████████████████████▎ | 1.1MB 18.4MB/s eta 0:00:01\r\u001b[K     |██████████████████████████████▋ | 1.1MB 18.4MB/s eta 0:00:01\r\u001b[K     |██████████████████████████████▉ | 1.1MB 18.4MB/s eta 0:00:01\r\u001b[K     |███████████████████████████████▏| 1.1MB 18.4MB/s eta 0:00:01\r\u001b[K     |███████████████████████████████▌| 1.1MB 18.4MB/s eta 0:00:01\r\u001b[K     |███████████████████████████████▊| 1.1MB 18.4MB/s eta 0:00:01\r\u001b[K     |████████████████████████████████| 1.1MB 18.4MB/s \n",
            "\u001b[?25hRequirement already satisfied: pandas in /usr/local/lib/python3.7/dist-packages (from gradio) (1.1.5)\n",
            "Collecting analytics-python\n",
            "  Downloading https://files.pythonhosted.org/packages/d3/37/c49d052f88655cd96445c36979fb63f69ef859e167eaff5706ca7c8a8ee3/analytics_python-1.2.9-py2.py3-none-any.whl\n",
            "Collecting colorama>=0.3.9\n",
            "  Downloading https://files.pythonhosted.org/packages/44/98/5b86278fbbf250d239ae0ecb724f8572af1c91f4a11edf4d36a206189440/colorama-0.4.4-py2.py3-none-any.whl\n",
            "Collecting markdown2\n",
            "  Downloading https://files.pythonhosted.org/packages/5d/be/3924cc1c0e12030b5225de2b4521f1dc729730773861475de26be64a0d2b/markdown2-2.4.0-py2.py3-none-any.whl\n",
            "Requirement already satisfied: librosa in /usr/local/lib/python3.7/dist-packages (from gradio) (0.8.0)\n",
            "Collecting Flask-Cors>=3.0.8\n",
            "  Downloading https://files.pythonhosted.org/packages/db/84/901e700de86604b1c4ef4b57110d4e947c218b9997adf5d38fa7da493bce/Flask_Cors-3.0.10-py2.py3-none-any.whl\n",
            "Collecting Flask-BasicAuth\n",
            "  Downloading https://files.pythonhosted.org/packages/16/18/9726cac3c7cb9e5a1ac4523b3e508128136b37aadb3462c857a19318900e/Flask-BasicAuth-0.2.0.tar.gz\n",
            "Collecting flask-cachebuster\n",
            "  Downloading https://files.pythonhosted.org/packages/74/47/f3e1fedfaad965c81c2f17234636d72f71450f1b4522ca26d2b7eb4a0a74/Flask-CacheBuster-1.0.0.tar.gz\n",
            "Requirement already satisfied: Flask>=1.1.1 in /usr/local/lib/python3.7/dist-packages (from gradio) (1.1.2)\n",
            "Requirement already satisfied: numpy in /usr/local/lib/python3.7/dist-packages (from gradio) (1.19.5)\n",
            "Requirement already satisfied: IPython in /usr/local/lib/python3.7/dist-packages (from gradio) (5.5.0)\n",
            "Requirement already satisfied: scikit-image in /usr/local/lib/python3.7/dist-packages (from gradio) (0.16.2)\n",
            "Collecting ffmpy\n",
            "  Downloading https://files.pythonhosted.org/packages/bf/e2/947df4b3d666bfdd2b0c6355d215c45d2d40f929451cb29a8a2995b29788/ffmpy-0.3.0.tar.gz\n",
            "Collecting paramiko\n",
            "\u001b[?25l  Downloading https://files.pythonhosted.org/packages/95/19/124e9287b43e6ff3ebb9cdea3e5e8e88475a873c05ccdf8b7e20d2c4201e/paramiko-2.7.2-py2.py3-none-any.whl (206kB)\n",
            "\u001b[K     |████████████████████████████████| 215kB 50.6MB/s \n",
            "\u001b[?25hRequirement already satisfied: requests in /usr/local/lib/python3.7/dist-packages (from gradio) (2.23.0)\n",
            "Requirement already satisfied: scipy in /usr/local/lib/python3.7/dist-packages (from gradio) (1.4.1)\n",
            "Requirement already satisfied: python-dateutil>=2.7.3 in /usr/local/lib/python3.7/dist-packages (from pandas->gradio) (2.8.1)\n",
            "Requirement already satisfied: pytz>=2017.2 in /usr/local/lib/python3.7/dist-packages (from pandas->gradio) (2018.9)\n",
            "Requirement already satisfied: six>=1.5 in /usr/local/lib/python3.7/dist-packages (from analytics-python->gradio) (1.15.0)\n",
            "Requirement already satisfied: numba>=0.43.0 in /usr/local/lib/python3.7/dist-packages (from librosa->gradio) (0.51.2)\n",
            "Requirement already satisfied: soundfile>=0.9.0 in /usr/local/lib/python3.7/dist-packages (from librosa->gradio) (0.10.3.post1)\n",
            "Requirement already satisfied: pooch>=1.0 in /usr/local/lib/python3.7/dist-packages (from librosa->gradio) (1.3.0)\n",
            "Requirement already satisfied: resampy>=0.2.2 in /usr/local/lib/python3.7/dist-packages (from librosa->gradio) (0.2.2)\n",
            "Requirement already satisfied: joblib>=0.14 in /usr/local/lib/python3.7/dist-packages (from librosa->gradio) (1.0.1)\n",
            "Requirement already satisfied: scikit-learn!=0.19.0,>=0.14.0 in /usr/local/lib/python3.7/dist-packages (from librosa->gradio) (0.22.2.post1)\n",
            "Requirement already satisfied: audioread>=2.0.0 in /usr/local/lib/python3.7/dist-packages (from librosa->gradio) (2.1.9)\n",
            "Requirement already satisfied: decorator>=3.0.0 in /usr/local/lib/python3.7/dist-packages (from librosa->gradio) (4.4.2)\n",
            "Requirement already satisfied: Werkzeug>=0.15 in /usr/local/lib/python3.7/dist-packages (from Flask>=1.1.1->gradio) (1.0.1)\n",
            "Requirement already satisfied: Jinja2>=2.10.1 in /usr/local/lib/python3.7/dist-packages (from Flask>=1.1.1->gradio) (2.11.3)\n",
            "Requirement already satisfied: click>=5.1 in /usr/local/lib/python3.7/dist-packages (from Flask>=1.1.1->gradio) (7.1.2)\n",
            "Requirement already satisfied: itsdangerous>=0.24 in /usr/local/lib/python3.7/dist-packages (from Flask>=1.1.1->gradio) (1.1.0)\n",
            "Requirement already satisfied: pygments in /usr/local/lib/python3.7/dist-packages (from IPython->gradio) (2.6.1)\n",
            "Requirement already satisfied: prompt-toolkit<2.0.0,>=1.0.4 in /usr/local/lib/python3.7/dist-packages (from IPython->gradio) (1.0.18)\n",
            "Requirement already satisfied: pickleshare in /usr/local/lib/python3.7/dist-packages (from IPython->gradio) (0.7.5)\n",
            "Requirement already satisfied: simplegeneric>0.8 in /usr/local/lib/python3.7/dist-packages (from IPython->gradio) (0.8.1)\n",
            "Requirement already satisfied: pexpect; sys_platform != \"win32\" in /usr/local/lib/python3.7/dist-packages (from IPython->gradio) (4.8.0)\n",
            "Requirement already satisfied: setuptools>=18.5 in /usr/local/lib/python3.7/dist-packages (from IPython->gradio) (54.2.0)\n",
            "Requirement already satisfied: traitlets>=4.2 in /usr/local/lib/python3.7/dist-packages (from IPython->gradio) (5.0.5)\n",
            "Requirement already satisfied: imageio>=2.3.0 in /usr/local/lib/python3.7/dist-packages (from scikit-image->gradio) (2.4.1)\n",
            "Requirement already satisfied: PyWavelets>=0.4.0 in /usr/local/lib/python3.7/dist-packages (from scikit-image->gradio) (1.1.1)\n",
            "Requirement already satisfied: pillow>=4.3.0 in /usr/local/lib/python3.7/dist-packages (from scikit-image->gradio) (7.1.2)\n",
            "Requirement already satisfied: matplotlib!=3.0.0,>=2.0.0 in /usr/local/lib/python3.7/dist-packages (from scikit-image->gradio) (3.2.2)\n",
            "Requirement already satisfied: networkx>=2.0 in /usr/local/lib/python3.7/dist-packages (from scikit-image->gradio) (2.5.1)\n",
            "Collecting pynacl>=1.0.1\n",
            "\u001b[?25l  Downloading https://files.pythonhosted.org/packages/9d/57/2f5e6226a674b2bcb6db531e8b383079b678df5b10cdaa610d6cf20d77ba/PyNaCl-1.4.0-cp35-abi3-manylinux1_x86_64.whl (961kB)\n",
            "\u001b[K     |████████████████████████████████| 962kB 50.3MB/s \n",
            "\u001b[?25hCollecting bcrypt>=3.1.3\n",
            "\u001b[?25l  Downloading https://files.pythonhosted.org/packages/26/70/6d218afbe4c73538053c1016dd631e8f25fffc10cd01f5c272d7acf3c03d/bcrypt-3.2.0-cp36-abi3-manylinux2010_x86_64.whl (63kB)\n",
            "\u001b[K     |████████████████████████████████| 71kB 11.9MB/s \n",
            "\u001b[?25hCollecting cryptography>=2.5\n",
            "\u001b[?25l  Downloading https://files.pythonhosted.org/packages/b2/26/7af637e6a7e87258b963f1731c5982fb31cd507f0d90d91836e446955d02/cryptography-3.4.7-cp36-abi3-manylinux2014_x86_64.whl (3.2MB)\n",
            "\u001b[K     |████████████████████████████████| 3.2MB 50.1MB/s \n",
            "\u001b[?25hRequirement already satisfied: certifi>=2017.4.17 in /usr/local/lib/python3.7/dist-packages (from requests->gradio) (2020.12.5)\n",
            "Requirement already satisfied: chardet<4,>=3.0.2 in /usr/local/lib/python3.7/dist-packages (from requests->gradio) (3.0.4)\n",
            "Requirement already satisfied: idna<3,>=2.5 in /usr/local/lib/python3.7/dist-packages (from requests->gradio) (2.10)\n",
            "Requirement already satisfied: urllib3!=1.25.0,!=1.25.1,<1.26,>=1.21.1 in /usr/local/lib/python3.7/dist-packages (from requests->gradio) (1.24.3)\n",
            "Requirement already satisfied: llvmlite<0.35,>=0.34.0.dev0 in /usr/local/lib/python3.7/dist-packages (from numba>=0.43.0->librosa->gradio) (0.34.0)\n",
            "Requirement already satisfied: cffi>=1.0 in /usr/local/lib/python3.7/dist-packages (from soundfile>=0.9.0->librosa->gradio) (1.14.5)\n",
            "Requirement already satisfied: packaging in /usr/local/lib/python3.7/dist-packages (from pooch>=1.0->librosa->gradio) (20.9)\n",
            "Requirement already satisfied: appdirs in /usr/local/lib/python3.7/dist-packages (from pooch>=1.0->librosa->gradio) (1.4.4)\n",
            "Requirement already satisfied: MarkupSafe>=0.23 in /usr/local/lib/python3.7/dist-packages (from Jinja2>=2.10.1->Flask>=1.1.1->gradio) (1.1.1)\n",
            "Requirement already satisfied: wcwidth in /usr/local/lib/python3.7/dist-packages (from prompt-toolkit<2.0.0,>=1.0.4->IPython->gradio) (0.2.5)\n",
            "Requirement already satisfied: ptyprocess>=0.5 in /usr/local/lib/python3.7/dist-packages (from pexpect; sys_platform != \"win32\"->IPython->gradio) (0.7.0)\n",
            "Requirement already satisfied: ipython-genutils in /usr/local/lib/python3.7/dist-packages (from traitlets>=4.2->IPython->gradio) (0.2.0)\n",
            "Requirement already satisfied: pyparsing!=2.0.4,!=2.1.2,!=2.1.6,>=2.0.1 in /usr/local/lib/python3.7/dist-packages (from matplotlib!=3.0.0,>=2.0.0->scikit-image->gradio) (2.4.7)\n",
            "Requirement already satisfied: cycler>=0.10 in /usr/local/lib/python3.7/dist-packages (from matplotlib!=3.0.0,>=2.0.0->scikit-image->gradio) (0.10.0)\n",
            "Requirement already satisfied: kiwisolver>=1.0.1 in /usr/local/lib/python3.7/dist-packages (from matplotlib!=3.0.0,>=2.0.0->scikit-image->gradio) (1.3.1)\n",
            "Requirement already satisfied: pycparser in /usr/local/lib/python3.7/dist-packages (from cffi>=1.0->soundfile>=0.9.0->librosa->gradio) (2.20)\n",
            "Building wheels for collected packages: Flask-BasicAuth, flask-cachebuster, ffmpy\n",
            "  Building wheel for Flask-BasicAuth (setup.py) ... \u001b[?25l\u001b[?25hdone\n",
            "  Created wheel for Flask-BasicAuth: filename=Flask_BasicAuth-0.2.0-cp37-none-any.whl size=4232 sha256=5efae3ec3302551722b5d7428f53c4a318806e4f559b6ed2566b6c620341e25e\n",
            "  Stored in directory: /root/.cache/pip/wheels/8a/d5/8c/1f40bffc038e6ab2865836cc303e312e16de7b6b577be16b25\n",
            "  Building wheel for flask-cachebuster (setup.py) ... \u001b[?25l\u001b[?25hdone\n",
            "  Created wheel for flask-cachebuster: filename=Flask_CacheBuster-1.0.0-cp37-none-any.whl size=3372 sha256=07ad65e12175478766ebb2255c4e77045956cf825b67731a2a67cdb406d6e923\n",
            "  Stored in directory: /root/.cache/pip/wheels/9f/fc/a7/ab5712c3ace9a8f97276465cc2937316ab8063c1fea488ea77\n",
            "  Building wheel for ffmpy (setup.py) ... \u001b[?25l\u001b[?25hdone\n",
            "  Created wheel for ffmpy: filename=ffmpy-0.3.0-cp37-none-any.whl size=4710 sha256=3b8f4e9e4d285c5c52c1a5a7b7758d88f0406616e8d75a61ac728258e5618db6\n",
            "  Stored in directory: /root/.cache/pip/wheels/cc/ac/c4/bef572cb7e52bfca170046f567e64858632daf77e0f34e5a74\n",
            "Successfully built Flask-BasicAuth flask-cachebuster ffmpy\n",
            "Installing collected packages: analytics-python, colorama, markdown2, Flask-Cors, Flask-BasicAuth, flask-cachebuster, ffmpy, pynacl, bcrypt, cryptography, paramiko, gradio\n",
            "Successfully installed Flask-BasicAuth-0.2.0 Flask-Cors-3.0.10 analytics-python-1.2.9 bcrypt-3.2.0 colorama-0.4.4 cryptography-3.4.7 ffmpy-0.3.0 flask-cachebuster-1.0.0 gradio-1.6.4 markdown2-2.4.0 paramiko-2.7.2 pynacl-1.4.0\n"
          ],
          "name": "stdout"
        }
      ]
    },
    {
      "cell_type": "code",
      "metadata": {
        "id": "f3f83569",
        "colab": {
          "base_uri": "https://localhost:8080/"
        },
        "outputId": "3788a688-c252-48d8-b689-536a297faa03"
      },
      "source": [
        "import tensorflow as tf\n",
        "print(tf.__version__)"
      ],
      "id": "f3f83569",
      "execution_count": 2,
      "outputs": [
        {
          "output_type": "stream",
          "text": [
            "2.4.1\n"
          ],
          "name": "stdout"
        }
      ]
    },
    {
      "cell_type": "code",
      "metadata": {
        "id": "961a6510",
        "colab": {
          "base_uri": "https://localhost:8080/"
        },
        "outputId": "a596fc9f-8fce-4ff4-f3cf-4c4224306e49"
      },
      "source": [
        "import gradio as gr\n",
        "import tensorflow as tf\n",
        "import numpy as np\n",
        "from PIL import Image\n",
        "import requests\n",
        "\n",
        "\n",
        "# Download human-readable labels for ImageNet.\n",
        "response = requests.get(\"https://git.io/JJkYN\")\n",
        "labels = response.text.split(\"\\n\")\n",
        "\n",
        "mobile_net = tf.keras.applications.MobileNetV2()\n",
        "inception_net = tf.keras.applications.InceptionV3()"
      ],
      "id": "961a6510",
      "execution_count": 3,
      "outputs": [
        {
          "output_type": "stream",
          "text": [
            "Downloading data from https://storage.googleapis.com/tensorflow/keras-applications/mobilenet_v2/mobilenet_v2_weights_tf_dim_ordering_tf_kernels_1.0_224.h5\n",
            "14540800/14536120 [==============================] - 0s 0us/step\n",
            "Downloading data from https://storage.googleapis.com/tensorflow/keras-applications/inception_v3/inception_v3_weights_tf_dim_ordering_tf_kernels.h5\n",
            "96116736/96112376 [==============================] - 1s 0us/step\n"
          ],
          "name": "stdout"
        }
      ]
    },
    {
      "cell_type": "code",
      "metadata": {
        "id": "44d83e7d"
      },
      "source": [
        "def classify_image_with_mobile_net(im):\n",
        "    im = Image.fromarray(im.astype('uint8'), 'RGB')\n",
        "    im = im.resize((224, 224))\n",
        "    arr = np.array(im).reshape((-1, 224, 224, 3))\n",
        "    arr = tf.keras.applications.mobilenet.preprocess_input(arr)\n",
        "    prediction = mobile_net.predict(arr).flatten()\n",
        "    return {labels[i]: float(prediction[i]) for i in range(1000)}\n",
        "    "
      ],
      "id": "44d83e7d",
      "execution_count": 4,
      "outputs": []
    },
    {
      "cell_type": "code",
      "metadata": {
        "id": "5e77912e"
      },
      "source": [
        "def classify_image_with_inception_net(im):\n",
        "    # Resize the image to\n",
        "    im = Image.fromarray(im.astype('uint8'), 'RGB')\n",
        "    im = im.resize((299, 299))\n",
        "    arr = np.array(im).reshape((-1, 299, 299, 3))\n",
        "    arr = tf.keras.applications.inception_v3.preprocess_input(arr)\n",
        "    prediction = inception_net.predict(arr).flatten()\n",
        "    return {labels[i]: float(prediction[i]) for i in range(1000)}"
      ],
      "id": "5e77912e",
      "execution_count": 5,
      "outputs": []
    },
    {
      "cell_type": "code",
      "metadata": {
        "id": "f6a9e5fe"
      },
      "source": [
        "imagein = gr.inputs.Image()\n",
        "label = gr.outputs.Label(num_top_classes=3)\n",
        "sample_images = [\n",
        "                 [\"monkey.jpg\"],\n",
        "                 [\"sailboat.jpg\"],\n",
        "                 [\"bicycle.jpg\"],\n",
        "                 [\"download.jpg\"],\n",
        "                 [\"fox.jpg\"]\n",
        "]"
      ],
      "id": "f6a9e5fe",
      "execution_count": 6,
      "outputs": []
    },
    {
      "cell_type": "code",
      "metadata": {
        "id": "61c325d0",
        "colab": {
          "base_uri": "https://localhost:8080/",
          "height": 609
        },
        "outputId": "aae6e47e-c4c1-47db-b170-21bfbd71e8ae"
      },
      "source": [
        "gr.Interface(\n",
        "    [classify_image_with_mobile_net, classify_image_with_inception_net],\n",
        "    imagein,\n",
        "    label,\n",
        "    title=\"MobileNet vs. InceptionNet\",\n",
        "    description=\"\"\"Let's compare 2 state-of-the-art machine learning models that classify images into one of 1,000 categories: MobileNet (top),\n",
        "          a lightweight model that has an accuracy of 0.704, vs. InceptionNet\n",
        "          (bottom), a much heavier model that has an accuracy of 0.779.\"\"\",\n",
        "    examples=sample_images).launch();"
      ],
      "id": "61c325d0",
      "execution_count": 7,
      "outputs": [
        {
          "output_type": "stream",
          "text": [
            "Colab notebook detected. To show errors in colab notebook, set `debug=True` in `launch()`\n",
            "This share link will expire in 24 hours. If you need a permanent link, visit: https://gradio.app/introducing-hosted (NEW!)\n",
            "Running on External URL: https://21138.gradio.app\n",
            "Interface loading below...\n"
          ],
          "name": "stdout"
        },
        {
          "output_type": "display_data",
          "data": {
            "text/html": [
              "\n",
              "        <iframe\n",
              "            width=\"1000\"\n",
              "            height=\"500\"\n",
              "            src=\"https://21138.gradio.app\"\n",
              "            frameborder=\"0\"\n",
              "            allowfullscreen\n",
              "        ></iframe>\n",
              "        "
            ],
            "text/plain": [
              "<IPython.lib.display.IFrame at 0x7f5a82298410>"
            ]
          },
          "metadata": {
            "tags": []
          }
        }
      ]
    }
  ]
}